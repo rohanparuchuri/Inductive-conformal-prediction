{
 "cells": [
  {
   "cell_type": "code",
   "execution_count": 1,
   "id": "0b2cefdf-fea9-4f06-92ce-66643da2a966",
   "metadata": {},
   "outputs": [],
   "source": [
    "from sklearn.model_selection import train_test_split\n",
    "import numpy as np\n",
    "from sklearn.linear_model import Lasso\n",
    "from sklearn.preprocessing import StandardScaler\n",
    "from sklearn.model_selection import cross_val_score"
   ]
  },
  {
   "cell_type": "markdown",
   "id": "476259d4-8b58-4e22-8bbc-1b3f5b47c0f0",
   "metadata": {},
   "source": [
    "# Training and Test R² with default parameters of diabetes dataset\n",
    "* This dataset has 10 feature\n",
    "* Those features are age, sex, bmi, bp, s1, s2, s3, s4, s5, s6."
   ]
  },
  {
   "cell_type": "code",
   "execution_count": 2,
   "id": "7a6d583b-4315-4708-88a9-b5a2a984ff23",
   "metadata": {},
   "outputs": [
    {
     "name": "stdout",
     "output_type": "stream",
     "text": [
      "Training R² with default parameters of diabetes dataset : 0.5137701693173082\n",
      "Test R² with original parameters of diabetes dataset : 0.49252165153314775\n"
     ]
    }
   ],
   "source": [
    "diabetes = np.genfromtxt('diabetes.data')\n",
    "\n",
    "x = diabetes[1:,:10]\n",
    "y = diabetes[1:,10:]\n",
    "\n",
    "xtrain,xtest,ytrain,ytest = train_test_split(x,y,random_state=311)\n",
    "\n",
    "lasso = Lasso().fit(xtrain,ytrain)\n",
    "\n",
    "print('Training R² with default parameters of diabetes dataset :',lasso.score(xtrain,ytrain))\n",
    "print('Test R² with original parameters of diabetes dataset :',lasso.score(xtest,ytest))"
   ]
  },
  {
   "cell_type": "markdown",
   "id": "ccc87e6b-3ce9-477d-a275-91dc96ac5943",
   "metadata": {},
   "source": [
    "# Training and Test R² with scaled parameters of diabetes dataset\n",
    "Standardization of parameters is better suited for Lasso, as it allows a uniform penalization of features and, when normalization is used, the different ranges of parameters might cause differences in penalizing the parameters."
   ]
  },
  {
   "cell_type": "code",
   "execution_count": 3,
   "id": "6a96e8d9-00cc-4fad-b117-cd1325edb54d",
   "metadata": {},
   "outputs": [
    {
     "name": "stdout",
     "output_type": "stream",
     "text": [
      "Training R² with scaled parameters : 0.5166974081783697\n",
      "Test R² with scaled parameters : 0.49783142364534294\n"
     ]
    }
   ],
   "source": [
    "from sklearn.preprocessing import StandardScaler\n",
    "\n",
    "scaler = StandardScaler()\n",
    "\n",
    "scaler.fit(xtrain)\n",
    "\n",
    "scaled_xtrain = scaler.transform(xtrain)\n",
    "\n",
    "scaled_xtest = scaler.transform(xtest)\n",
    "\n",
    "lasso_scaled = Lasso().fit(scaled_xtrain,ytrain)\n",
    "\n",
    "print('Training R² with scaled parameters :',lasso_scaled.score(scaled_xtrain,ytrain))\n",
    "print('Test R² with scaled parameters :',lasso_scaled.score(scaled_xtest,ytest))"
   ]
  },
  {
   "cell_type": "markdown",
   "id": "c1ad475f-f3a5-4de7-a369-f73f8ee097c5",
   "metadata": {},
   "source": [
    "# Determining the best ⍺ for lasso by using grid search and cross validation\n",
    "When the model is iterated through a range of values of ⍺, the test R² of the model is high when ⍺=0.1 and the model used 10 features."
   ]
  },
  {
   "cell_type": "code",
   "execution_count": 4,
   "id": "502b2f82-262a-45a6-985c-6a733918730d",
   "metadata": {},
   "outputs": [
    {
     "name": "stdout",
     "output_type": "stream",
     "text": [
      "Best score for cross validation is 0.4815742066905676\n",
      "Best alpha based on cross validation is 0.1\n",
      "alpha values tried :- [1e-05, 0.0001, 0.001, 0.01, 0.1, 1, 10]\n",
      "non zero features for each alpha :- [10, 10, 10, 10, 10, 9, 4]\n"
     ]
    }
   ],
   "source": [
    "best_alpha = 0\n",
    "best_score = 0\n",
    "non_zero_features = []\n",
    "alpha = [0.00001,0.0001,0.001,0.01,0.1,1,10]\n",
    "for i in alpha:\n",
    "    lasso_cv = Lasso(alpha=i).fit(scaled_xtrain,ytrain)\n",
    "    scores=cross_val_score(lasso_cv,scaled_xtrain,ytrain,cv=5)\n",
    "    score = np.mean(scores)\n",
    "    if score>best_score:\n",
    "        best_score=score\n",
    "        best_alpha=i\n",
    "    non_zero_features.append(np.sum(1- (lasso_cv.coef_ == 0)))\n",
    "print('Best score for cross validation is',best_score)\n",
    "print('Best alpha based on cross validation is',best_alpha)\n",
    "print('alpha values tried :-',alpha)\n",
    "print('non zero features for each alpha :-',non_zero_features)"
   ]
  },
  {
   "cell_type": "markdown",
   "id": "82eed2af-e988-4e5b-bff5-726345301c48",
   "metadata": {},
   "source": [
    "# Training and Test R² after using best ⍺ based on cross validation"
   ]
  },
  {
   "cell_type": "code",
   "execution_count": 5,
   "id": "81c48c24-4a9f-45af-997c-fb2cdd4a149b",
   "metadata": {},
   "outputs": [
    {
     "name": "stdout",
     "output_type": "stream",
     "text": [
      "Training R² with scaled train set with alpha=0.1 : 0.5198615788686103\n",
      "Test R² with scaled test set with alpha=0.1 : 0.4910363431094602\n"
     ]
    }
   ],
   "source": [
    "lasso = Lasso(alpha=0.1).fit(scaled_xtrain,ytrain)\n",
    "print('Training R² with scaled train set with alpha=0.1 :',lasso.score(scaled_xtrain,ytrain))\n",
    "print('Test R² with scaled test set with alpha=0.1 :',lasso.score(scaled_xtest,ytest))"
   ]
  },
  {
   "cell_type": "markdown",
   "id": "15fca2b7-6b30-4657-9d0d-8c83b2094fe4",
   "metadata": {},
   "source": [
    "# Inductive Conformal Prediciton"
   ]
  },
  {
   "cell_type": "code",
   "execution_count": 6,
   "id": "6a21abcc-bbfe-4620-bcab-510bf7d235c0",
   "metadata": {},
   "outputs": [],
   "source": [
    "x_train,x_calib,y_train,y_calib = train_test_split(xtrain,ytrain,test_size = 0.25,random_state=311)\n",
    "\n",
    "scaler = StandardScaler()\n",
    "scaled_x_train = scaler.fit_transform(x_train)\n",
    "scaled_x_calib = scaler.transform(x_calib)\n",
    "scaled_x_test = scaler.transform(xtest)\n",
    "\n",
    "lasso_icp = Lasso(alpha=0.1).fit(scaled_x_train,y_train)\n",
    "y_pred = lasso_icp.predict(scaled_x_calib)\n",
    "non_conf_score = []\n",
    "for i in range(len(scaled_x_calib)):\n",
    "    non_conf = abs(y_pred[i] - y_calib[i])\n",
    "    non_conf_score.append(non_conf.item())\n",
    "\n",
    "non_conf_scores = sorted(non_conf_score)\n",
    "\n",
    "y_pred_test = lasso_icp.predict(scaled_x_test)\n",
    "\n",
    "def icp(sig_level):\n",
    "    k = np.ceil((1-sig_level)*(len(y_calib)+1))\n",
    "    non_conf_k = non_conf_scores[int(k-1)]\n",
    "    icp_lasso=[]\n",
    "    for i in range(len(y_pred_test)):\n",
    "        icp_lasso.append([y_pred_test[i]-non_conf_k,y_pred_test[i]+non_conf_k])\n",
    "    correct_pred = 0\n",
    "    for i in range(len(icp_lasso)):\n",
    "        if ytest[i]>=icp_lasso[i][0] and ytest[i]<=icp_lasso[i][1]:\n",
    "            correct_pred = correct_pred+1\n",
    "    test_error_rate = 1-(correct_pred/len(ytest))\n",
    "    return non_conf_k*2,icp_lasso,test_error_rate"
   ]
  },
  {
   "cell_type": "markdown",
   "id": "37b83e1a-f7e9-4ec8-b0a2-6ec38e3eb085",
   "metadata": {},
   "source": [
    "# Inductive conformal prediction for 5% significance level"
   ]
  },
  {
   "cell_type": "code",
   "execution_count": 7,
   "id": "a7a36dad-3603-4994-8dfe-19816e0b8e5a",
   "metadata": {},
   "outputs": [
    {
     "name": "stdout",
     "output_type": "stream",
     "text": [
      "\n",
      "length of prediction sets : 215.4001417047757\n",
      "\n",
      "Prediction sets at 5% significance level :\n",
      " [[144.20687291059204, 359.60701461536775], [36.582955450629555, 251.98309715540526], [133.23165354271924, 348.63179524749495], [12.900967065401531, 228.30110877017722], [107.99795327797577, 323.39809498275145], [96.216891380144, 311.61703308491974], [74.10605283348812, 289.5061945382638], [-17.61846432361523, 197.78167738116048], [-8.800395034141133, 206.59974667063457], [65.53717657314317, 280.93731827791885], [140.9407230199177, 356.3408647246934], [70.00309829917785, 285.40324000395356], [17.204280676004146, 232.60442238077985], [103.15009589723925, 318.55023760201493], [95.69130310205375, 311.0914448068295], [47.124755936748755, 262.5248976415245], [-11.947846414414613, 203.4522952903611], [29.65881329403564, 245.05895499881134], [122.61979960385685, 338.01994130863255], [36.95270707651005, 252.35284878128576], [63.7404415497617, 279.14058325453743], [77.02836452346412, 292.4285062282398], [-59.73447262723579, 155.66566907753992], [61.89535133602567, 277.2954930408014], [5.359400582909004, 220.75954228768472], [66.77371955007757, 282.17386125485325], [12.197432063556732, 227.59757376833244], [62.44365329533136, 277.8437950001071], [69.02522014018706, 284.42536184496277], [-21.42896667586713, 193.9711750289086], [-55.74309528951805, 159.65704641525764], [45.8815768021189, 261.2817185068946], [24.64548612989688, 240.0456278346726], [84.97511244722386, 300.37525415199957], [17.86027614736325, 233.26041785213897], [3.714565694004733, 219.11470739878044], [45.3746645660496, 260.7748062708253], [12.337250278646707, 227.7373919834224], [2.656789747303506, 218.0569314520792], [-14.616332661024288, 200.78380904375143], [119.26674742265661, 334.66688912743234], [-9.712177356472296, 205.6879643483034], [101.13432633412219, 316.5344680388979], [-14.337331888758797, 201.0628098160169], [82.93882860806568, 298.3389703128414], [60.34836346415156, 275.7485051689273], [-13.751779492473332, 201.64836221230237], [150.2647752049894, 365.6649169097651], [14.393093506361978, 229.7932352111377], [104.9052367263904, 320.3053784311661], [47.12486332300105, 262.52500502777673], [8.324884178276449, 223.72502588305215], [28.94587535296617, 244.34601705774188], [141.76354639795366, 357.16368810272934], [15.05040160324188, 230.4505433080176], [34.63001454752745, 250.03015625230316], [42.79733041895989, 258.19747212373557], [-9.228987917390441, 206.17115378738526], [39.54185068169451, 254.94199238647022], [-40.59290260043069, 174.807239104345], [-41.08601774076415, 174.31412396401157], [-31.757787331253724, 183.64235437352198], [46.95656828197107, 262.35670998674675], [-11.61182650502883, 203.78831519974688], [-46.77376653133999, 168.62637517343572], [55.053988009373484, 270.4541297141492], [90.33418594573135, 305.73432765050705], [51.07460708979377, 266.47474879456945], [-30.482982417361853, 184.91715928741385], [14.329213857912364, 229.72935556268806], [41.65209674605717, 257.0522384508329], [25.503923396780664, 240.90406510155637], [-15.663427848460287, 199.73671385631542], [-17.72917784466196, 197.67096386011374], [38.550100429721255, 253.95024213449696], [8.399967704569235, 223.80010940934494], [137.8051516819834, 353.2052933867591], [-15.62216930849641, 199.7779723962793], [18.827130701821943, 234.22727240659765], [11.160323007185156, 226.56046471196086], [113.00537642218774, 328.40551812696344], [124.56280329050489, 339.9629449952806], [88.88948268905261, 304.2896243938283], [-6.794769620549175, 208.60537208422653], [36.77979862628112, 252.17994033105683], [49.945736249118454, 265.34587795389416], [48.69703591153194, 264.09717761630765], [172.36171286463752, 387.76185456941323], [42.51346541440134, 257.9136071191771], [114.14019501250334, 329.54033671727905], [19.989503814968884, 235.3896455197446], [-19.369884851735947, 196.03025685303976], [85.58348789378502, 300.9836295985607], [8.507428157818012, 223.90756986259373], [34.38433900993718, 249.78448071471288], [-5.491086243832726, 209.90905546094297], [85.03428578445562, 300.4344274892313], [89.12539495518931, 304.52553665996504], [48.18409660412175, 263.58423830889745], [38.260186787960095, 253.6603284927358], [57.898206231492, 273.2983479362677], [-19.959405196455677, 195.44073650832001], [2.6470287264227466, 218.04717043119845], [32.31428028837473, 247.71442199315044], [28.047598386911147, 243.44774009168685], [72.82740925552062, 288.2275509602963], [-16.458906860215336, 198.94123484456037], [4.738549112368418, 220.13869081714412], [14.801947098929588, 230.2020888037053], [48.76517371304675, 264.16531541782246], [18.2338812124449, 233.6340229172206]]\n",
      "\n",
      "Test error rate at 5% significance level :\n",
      " 0.04504504504504503\n"
     ]
    }
   ],
   "source": [
    "length,prediction_sets,test_error_rate = icp(0.05)\n",
    "print('\\nlength of prediction sets :',length)\n",
    "print('\\nPrediction sets at 5% significance level :\\n',prediction_sets)\n",
    "print('\\nTest error rate at 5% significance level :\\n',test_error_rate)"
   ]
  },
  {
   "cell_type": "markdown",
   "id": "144e6c6a-eb34-4e37-b063-5fda4c9c6530",
   "metadata": {},
   "source": [
    "# Inductive conformal prediction for 20% significance level"
   ]
  },
  {
   "cell_type": "code",
   "execution_count": 8,
   "id": "95f8d8ab-b718-4881-a45a-80e7e177be9c",
   "metadata": {},
   "outputs": [
    {
     "name": "stdout",
     "output_type": "stream",
     "text": [
      "length of prediction sets : 146.38764651714217\n",
      "\n",
      "Prediction sets at 20% significance level :\n",
      " [[178.7131205044088, 325.10076702155095], [71.08920304444632, 217.4768495615885], [167.737901136536, 314.12554765367815], [47.4072146592183, 193.79486117636048], [142.50420087179253, 288.8918473889347], [130.72313897396077, 277.11078549110294], [108.61230042730489, 254.99994694444706], [16.88778327020154, 163.2754297873437], [25.705852559675634, 172.0934990768178], [100.04342416695994, 246.4310706841021], [175.44697061373446, 321.8346171308766], [104.50934589299462, 250.8969924101368], [51.71052826982091, 198.09817478696309], [137.65634349105602, 284.0439900081982], [130.19755069587052, 276.5851972130127], [81.63100353056552, 228.0186500477077], [22.558401179402154, 168.94604769654433], [64.1650608878524, 210.55270740499458], [157.1260471976736, 303.51369371481576], [71.45895467032682, 217.846601187469], [98.24668914357846, 244.63433566072064], [111.53461211728089, 257.9222586344231], [-25.228225033419022, 121.15942148372315], [96.40159892984244, 242.7892454469846], [39.86564817672577, 186.25329469386793], [101.27996714389434, 247.6676136610365], [46.7036796573735, 193.09132617451567], [96.94990088914813, 243.3375474062903], [103.53146773400383, 249.919114251146], [13.077280917949636, 159.4649274350918], [-21.236847695701286, 125.15079882144089], [80.38782439593567, 226.77547091307784], [59.15173372371365, 205.53938024085582], [119.48136004104063, 265.86900655818283], [52.36652374118002, 198.75417025832218], [38.2208132878215, 184.60845980496367], [79.88091215986637, 226.26855867700854], [46.84349787246347, 193.23114438960565], [37.16303734112027, 183.55068385826246], [19.88991493279248, 166.27756144993464], [153.77299501647337, 300.16064153361555], [24.79407023734447, 171.18171675448664], [135.64057392793896, 282.02822044508116], [20.16891570505797, 166.55656222220014], [117.44507620188244, 263.8327227190246], [94.85461105796833, 241.2422575751105], [20.754468101343434, 167.1421146184856], [184.77102279880617, 331.1586693159484], [48.899341100178745, 195.2869876173209], [139.41148432020717, 285.79913083734937], [81.63111091681782, 228.01875743396], [42.831131772093215, 189.2187782892354], [63.452122946782936, 209.8397694639251], [176.26979399177043, 322.6574405089126], [49.55664919705865, 195.94429571420082], [69.13626214134422, 215.5239086584864], [77.30357801277665, 223.69122452991883], [25.277259676426326, 171.6649061935685], [74.04809827551128, 220.43574479265345], [-6.086655006613924, 140.30099151052826], [-6.579770146947382, 139.80787637019478], [2.748460262563043, 149.13610677970522], [81.46281587578784, 227.85046239293], [22.894421088787936, 169.2820676059301], [-12.26751893752322, 134.12012757961895], [89.56023560319025, 235.94788212033242], [124.84043353954812, 271.22808005669026], [85.58085468361054, 231.9685012007527], [4.023265176454913, 150.4109116935971], [48.83546145172913, 195.22310796887132], [76.15834433987393, 222.5459908570161], [60.01017099059743, 206.3978175077396], [18.84281974535648, 165.23046626249865], [16.777069749154805, 163.16471626629698], [73.05634802353802, 219.4439945406802], [42.906215298386, 189.29386181552817], [172.31139927580017, 318.69904579294234], [18.884078285320356, 165.27172480246253], [53.33337829563871, 199.72102481278088], [45.66657060100192, 192.0542171181441], [147.5116240160045, 293.8992705331467], [159.06905088432165, 305.4566974014638], [123.39573028286938, 269.7833768000115], [27.71147797326759, 174.09912449040976], [71.28604622009789, 217.67369273724006], [84.45198384293522, 230.8396303600774], [83.20328350534871, 229.59093002249088], [206.8679604584543, 353.2556069755965], [77.0197130082181, 223.40735952536028], [148.6464426063201, 295.0340891234623], [54.49575140878565, 200.88339792592782], [15.13636274208082, 161.524009259223], [120.08973548760179, 266.47738200474396], [43.01367575163478, 189.40132226877694], [68.89058660375395, 215.27823312089612], [29.01516134998404, 175.40280786712623], [119.54053337827239, 265.9281798954146], [123.63164254900607, 270.01928906614825], [82.69034419793851, 229.0779907150807], [72.76643438177686, 219.15408089891903], [92.40445382530876, 238.79210034245094], [14.54684239736109, 160.93448891450328], [37.15327632023951, 183.5409228373817], [66.8205278821915, 213.20817439933367], [62.553845980727914, 208.9414924978701], [107.33365684933739, 253.72130336647956], [18.04734073360143, 164.4349872507436], [39.244796706185184, 185.63244322332736], [49.308194692746355, 195.69584120988853], [83.27142130686352, 229.6590678240057], [52.740128806261666, 199.12777532340385]]\n",
      "\n",
      "Test error rate at 20% significance level :\n",
      " 0.18018018018018023\n"
     ]
    }
   ],
   "source": [
    "length,prediction_sets,test_error_rate = icp(0.2)\n",
    "print('length of prediction sets :',length)\n",
    "print('\\nPrediction sets at 20% significance level :\\n',prediction_sets)\n",
    "print('\\nTest error rate at 20% significance level :\\n',test_error_rate)"
   ]
  }
 ],
 "metadata": {
  "kernelspec": {
   "display_name": "Python 3 (ipykernel)",
   "language": "python",
   "name": "python3"
  },
  "language_info": {
   "codemirror_mode": {
    "name": "ipython",
    "version": 3
   },
   "file_extension": ".py",
   "mimetype": "text/x-python",
   "name": "python",
   "nbconvert_exporter": "python",
   "pygments_lexer": "ipython3",
   "version": "3.12.4"
  }
 },
 "nbformat": 4,
 "nbformat_minor": 5
}
